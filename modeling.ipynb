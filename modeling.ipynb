{
 "cells": [
  {
   "cell_type": "code",
   "execution_count": 1,
   "id": "3422ab5a",
   "metadata": {},
   "outputs": [],
   "source": [
    "import numpy as np\n",
    "import pandas as pd"
   ]
  },
  {
   "cell_type": "code",
   "execution_count": 72,
   "id": "5426b9e0",
   "metadata": {},
   "outputs": [],
   "source": [
    "from sklearn.preprocessing import OneHotEncoder, StandardScaler, MinMaxScaler\n",
    "from sklearn.base import TransformerMixin, BaseEstimator\n",
    "from sklearn.compose import ColumnTransformer\n",
    "from sklearn.pipeline import Pipeline\n",
    "from sklearn.linear_model import LinearRegression\n",
    "from sklearn.impute import SimpleImputer"
   ]
  },
  {
   "cell_type": "code",
   "execution_count": 3,
   "id": "8acb900b",
   "metadata": {},
   "outputs": [],
   "source": [
    "df = pd.read_csv(\"./auto+mpg/auto-mpg.data\",sep=\" \",na_values='?',comment=\"\\t\",skipinitialspace=True, header=None)"
   ]
  },
  {
   "cell_type": "code",
   "execution_count": 4,
   "id": "f9764f59",
   "metadata": {},
   "outputs": [
    {
     "data": {
      "text/html": [
       "<div>\n",
       "<style scoped>\n",
       "    .dataframe tbody tr th:only-of-type {\n",
       "        vertical-align: middle;\n",
       "    }\n",
       "\n",
       "    .dataframe tbody tr th {\n",
       "        vertical-align: top;\n",
       "    }\n",
       "\n",
       "    .dataframe thead th {\n",
       "        text-align: right;\n",
       "    }\n",
       "</style>\n",
       "<table border=\"1\" class=\"dataframe\">\n",
       "  <thead>\n",
       "    <tr style=\"text-align: right;\">\n",
       "      <th></th>\n",
       "      <th>mpg</th>\n",
       "      <th>cylinders</th>\n",
       "      <th>displacement</th>\n",
       "      <th>horsepower</th>\n",
       "      <th>weight</th>\n",
       "      <th>acceleration</th>\n",
       "      <th>year</th>\n",
       "      <th>origin</th>\n",
       "    </tr>\n",
       "  </thead>\n",
       "  <tbody>\n",
       "    <tr>\n",
       "      <th>0</th>\n",
       "      <td>18.0</td>\n",
       "      <td>8</td>\n",
       "      <td>307.0</td>\n",
       "      <td>130.0</td>\n",
       "      <td>3504.0</td>\n",
       "      <td>12.0</td>\n",
       "      <td>70</td>\n",
       "      <td>1</td>\n",
       "    </tr>\n",
       "    <tr>\n",
       "      <th>1</th>\n",
       "      <td>15.0</td>\n",
       "      <td>8</td>\n",
       "      <td>350.0</td>\n",
       "      <td>165.0</td>\n",
       "      <td>3693.0</td>\n",
       "      <td>11.5</td>\n",
       "      <td>70</td>\n",
       "      <td>1</td>\n",
       "    </tr>\n",
       "    <tr>\n",
       "      <th>2</th>\n",
       "      <td>18.0</td>\n",
       "      <td>8</td>\n",
       "      <td>318.0</td>\n",
       "      <td>150.0</td>\n",
       "      <td>3436.0</td>\n",
       "      <td>11.0</td>\n",
       "      <td>70</td>\n",
       "      <td>1</td>\n",
       "    </tr>\n",
       "    <tr>\n",
       "      <th>3</th>\n",
       "      <td>16.0</td>\n",
       "      <td>8</td>\n",
       "      <td>304.0</td>\n",
       "      <td>150.0</td>\n",
       "      <td>3433.0</td>\n",
       "      <td>12.0</td>\n",
       "      <td>70</td>\n",
       "      <td>1</td>\n",
       "    </tr>\n",
       "    <tr>\n",
       "      <th>4</th>\n",
       "      <td>17.0</td>\n",
       "      <td>8</td>\n",
       "      <td>302.0</td>\n",
       "      <td>140.0</td>\n",
       "      <td>3449.0</td>\n",
       "      <td>10.5</td>\n",
       "      <td>70</td>\n",
       "      <td>1</td>\n",
       "    </tr>\n",
       "  </tbody>\n",
       "</table>\n",
       "</div>"
      ],
      "text/plain": [
       "    mpg  cylinders  displacement  horsepower  weight  acceleration  year  \\\n",
       "0  18.0          8         307.0       130.0  3504.0          12.0    70   \n",
       "1  15.0          8         350.0       165.0  3693.0          11.5    70   \n",
       "2  18.0          8         318.0       150.0  3436.0          11.0    70   \n",
       "3  16.0          8         304.0       150.0  3433.0          12.0    70   \n",
       "4  17.0          8         302.0       140.0  3449.0          10.5    70   \n",
       "\n",
       "   origin  \n",
       "0       1  \n",
       "1       1  \n",
       "2       1  \n",
       "3       1  \n",
       "4       1  "
      ]
     },
     "execution_count": 4,
     "metadata": {},
     "output_type": "execute_result"
    }
   ],
   "source": [
    "df.columns = ['mpg','cylinders','displacement','horsepower','weight','acceleration','year','origin']\n",
    "df.head()"
   ]
  },
  {
   "cell_type": "code",
   "execution_count": 80,
   "id": "1be6ffce",
   "metadata": {},
   "outputs": [],
   "source": [
    "class PrepTransformer(BaseEstimator, TransformerMixin):\n",
    "    \n",
    "    def fit(self, X, y=None):\n",
    "        origin_encoder = OneHotEncoder(handle_unknown='ignore')\n",
    "        origin_encoder.fit(X['origin'].values.reshape(-1, 1))\n",
    "        self.origin_encoder = origin_encoder\n",
    "        \n",
    "        self.standardised_features = ['cylinders','displacement','horsepower','weight','acceleration','year']\n",
    "        self.standard_scalers = [StandardScaler()]*len(self.standardised_features)\n",
    "        for ind,feat in enumerate(self.standardised_features):\n",
    "            self.standard_scalers[ind].fit(X[feat].values.reshape(-1,1))\n",
    "        \n",
    "        self.hp_imputer = SimpleImputer(strategy='median')\n",
    "        self.hp_imputer.fit(X['horsepower'].values.reshape(-1,1))\n",
    "        \n",
    "    def transform(self, X):\n",
    "        origin_ohe = self.origin_encoder.transform(X['origin'].values.reshape(-1,1)).toarray()\n",
    "        X['acc_on_cyl'] = X['acceleration']/X['cylinders']\n",
    "        X['acc_on_disp'] = X['acceleration']/X['displacement']\n",
    "        X_cols_retain = [c for c in X.columns.tolist() if c!='origin']\n",
    "        cols = (X_cols_retain\n",
    "            + ['origin_{}'.format(x) for x in range(origin_ohe.shape[-1])])\n",
    "        \n",
    "        combined = np.column_stack((X[X_cols_retain],origin_ohe))\n",
    "        temp_df = pd.DataFrame(combined,columns=cols) \n",
    "        \n",
    "        # standard scaling\n",
    "        for ind,feat in enumerate(self.standardised_features):\n",
    "            temp_df[feat] = self.standard_scalers[ind].transform(X[feat].values.reshape(-1,1))\n",
    "        \n",
    "        temp_df['horsepower']=self.hp_imputer.transform(temp_df['horsepower'].values.reshape(-1,1))\n",
    "        return temp_df"
   ]
  },
  {
   "cell_type": "code",
   "execution_count": 81,
   "id": "9fc3c379",
   "metadata": {},
   "outputs": [],
   "source": [
    "prepTransformer = PrepTransformer()\n",
    "prepTransformer.fit(df)\n"
   ]
  },
  {
   "cell_type": "code",
   "execution_count": 82,
   "id": "2837f9af",
   "metadata": {},
   "outputs": [],
   "source": [
    "df_1 = prepTransformer.transform(df)\n"
   ]
  },
  {
   "cell_type": "code",
   "execution_count": 83,
   "id": "0999f045",
   "metadata": {},
   "outputs": [],
   "source": [
    "features = [c for c in df_1.columns if c!='mpg']\n",
    "model = LinearRegression().fit(X=df_1[features],\n",
    "                               y=df_1['mpg'])"
   ]
  },
  {
   "cell_type": "code",
   "execution_count": 88,
   "id": "ee26437b",
   "metadata": {},
   "outputs": [
    {
     "data": {
      "text/plain": [
       "0.8507804005986589"
      ]
     },
     "execution_count": 88,
     "metadata": {},
     "output_type": "execute_result"
    }
   ],
   "source": [
    "model.score(df_1[features],df_1['mpg'])"
   ]
  },
  {
   "cell_type": "code",
   "execution_count": 90,
   "id": "650eed68",
   "metadata": {},
   "outputs": [],
   "source": [
    "import pickle\n",
    "with open('model.bin','wb') as mout:\n",
    "    pickle.dump(model, mout)\n"
   ]
  },
  {
   "cell_type": "code",
   "execution_count": 91,
   "id": "c3b6f653",
   "metadata": {},
   "outputs": [],
   "source": [
    "with open('prep.bin','wb') as pout:\n",
    "    pickle.dump(prepTransformer, pout)"
   ]
  },
  {
   "cell_type": "code",
   "execution_count": null,
   "id": "ac6d30a6",
   "metadata": {},
   "outputs": [],
   "source": []
  }
 ],
 "metadata": {
  "kernelspec": {
   "display_name": "Python 3 (ipykernel)",
   "language": "python",
   "name": "python3"
  },
  "language_info": {
   "codemirror_mode": {
    "name": "ipython",
    "version": 3
   },
   "file_extension": ".py",
   "mimetype": "text/x-python",
   "name": "python",
   "nbconvert_exporter": "python",
   "pygments_lexer": "ipython3",
   "version": "3.9.7"
  }
 },
 "nbformat": 4,
 "nbformat_minor": 5
}
